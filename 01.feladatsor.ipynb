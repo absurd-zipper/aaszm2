{
 "cells": [
  {
   "cell_type": "markdown",
   "metadata": {},
   "source": [
    "### 1. Feladatsor"
   ]
  },
  {
   "cell_type": "markdown",
   "metadata": {},
   "source": [
    "<b>1.feladat.</b> Írjunk programot, mely a gyakorlaton tanult LAER megolható akkor és csak akkor, ha $r(A)=r(A | b)$ rang tételt ellenőrzi. "
   ]
  },
  {
   "cell_type": "code",
   "execution_count": 12,
   "metadata": {},
   "outputs": [
    {
     "name": "stdout",
     "output_type": "stream",
     "text": [
      "A =\n",
      "\n",
      "   1   2   6\n",
      "   4   5   6\n",
      "   7   8   9\n",
      "\n",
      "b =\n",
      "\n",
      "   1\n",
      "   2\n",
      "   3\n",
      "\n",
      "ans =\n",
      "\n",
      "   1   2   6   1\n",
      "   4   5   6   2\n",
      "   7   8   9   3\n",
      "\n",
      "ans =\n",
      "\n",
      "   1   2   6\n",
      "   4   5   6\n",
      "   7   8   9\n",
      "   1   2   3\n",
      "\n",
      "ans = 1\n"
     ]
    }
   ],
   "source": [
    "A=[1 2 6; \n",
    "   4 5 6; \n",
    "   7 8 9];\n",
    "   \n",
    "b=[1 2 3]';\n",
    "A\n",
    "b\n",
    "\n",
    "[A b]\n",
    "[A; b']\n",
    "rank(A) == rank([A b])"
   ]
  },
  {
   "cell_type": "markdown",
   "metadata": {},
   "source": [
    "<b>2.feladat.</b> Írjunk programot, mely eldönti egy adott mátrixról, hogy a nulla sajátértéke-e vagy sem!"
   ]
  },
  {
   "cell_type": "code",
   "execution_count": 22,
   "metadata": {},
   "outputs": [
    {
     "name": "stdout",
     "output_type": "stream",
     "text": [
      "ans =\n",
      "\n",
      "   14.21110\n",
      "   -0.21110\n",
      "    1.00000\n",
      "\n",
      "ans = -3.0000\n",
      "ans = -3\n",
      "ans =  15\n",
      "ans = 0\n",
      "ans = 0\n",
      "ans = 1\n",
      "ans =  1\n"
     ]
    }
   ],
   "source": [
    "A=[1 0 0; \n",
    "   4 5 6;\n",
    "   7 8 9];\n",
    "   \n",
    "eig(A)\n",
    "\n",
    "prod(eig(A))\n",
    "det(A)\n",
    "trace(A)\n",
    "\n",
    "det(A) == 0\n",
    "\n",
    "ismember(0, eig(A))\n",
    "~ismember(0, eig(A))"
   ]
  },
  {
   "cell_type": "code",
   "execution_count": 24,
   "metadata": {},
   "outputs": [
    {
     "name": "stdout",
     "output_type": "stream",
     "text": [
      "ans =  1\n",
      "ans = 0\n"
     ]
    }
   ],
   "source": [
    "function zero_is_eig = is_zero_eigenvalue(A)\n",
    "    zero_is_eig = 0;\n",
    "\n",
    "    eigs = eig(A);\n",
    "    for ix=1:numel(eigs)\n",
    "        if eigs(ix) == 0\n",
    "            zero_is_eig = 1;\n",
    "        end\n",
    "    end\n",
    "endfunction\n",
    "\n",
    "is_zero_eigenvalue([0])\n",
    "is_zero_eigenvalue([1])"
   ]
  },
  {
   "cell_type": "code",
   "execution_count": 25,
   "metadata": {},
   "outputs": [
    {
     "name": "stdout",
     "output_type": "stream",
     "text": [
      "ans =  1\n"
     ]
    }
   ],
   "source": [
    "function lam_is_eig = is_lam_eigenvalue(A, lam)\n",
    "    lam_is_eig = 0;\n",
    "\n",
    "    eigs = eig(A);\n",
    "    for ix=1:numel(eigs)\n",
    "        if eigs(ix) == lam\n",
    "            lam_is_eig = 1;\n",
    "        end\n",
    "    end\n",
    "endfunction\n",
    "\n",
    "is_lam_eigenvalue([1], 1)"
   ]
  },
  {
   "cell_type": "markdown",
   "metadata": {},
   "source": [
    "<b>3.feladat.</b> Írjunk olyan programot, mely a sarokdetermináns tétel alapján eldönti, hogy a mátrix szigourúan pozitív definit-e vagy sem!"
   ]
  },
  {
   "cell_type": "code",
   "execution_count": 31,
   "metadata": {},
   "outputs": [
    {
     "name": "stdout",
     "output_type": "stream",
     "text": [
      "ans =\n",
      "\n",
      "   4   1\n",
      "   1   3\n",
      "\n",
      "ans =\n",
      "\n",
      "   4   1   0\n",
      "   1   3   0\n",
      "  -2   1   7\n",
      "\n",
      "ans =  3\n",
      "ans = 1\n"
     ]
    }
   ],
   "source": [
    "A=[4 1 0; \n",
    "   1 3 0;\n",
    "  -2 1 7];\n",
    "\n",
    "A(1:2, 1:2)\n",
    "A(1:3, 1:3)\n",
    "rows(A)\n",
    "\n",
    "function spd = is_spd(A)\n",
    "    spd = 1;\n",
    "    for rowix = 1:rows(A)\n",
    "        spd = spd & (det(A(1:rowix, 1:rowix)) > 0);\n",
    "        %spd &= (det(A(1:rowix, 1:rowix)) > 0);\n",
    "    end\n",
    "endfunction\n",
    "\n",
    "is_spd(A)"
   ]
  },
  {
   "cell_type": "code",
   "execution_count": 36,
   "metadata": {},
   "outputs": [
    {
     "name": "stdout",
     "output_type": "stream",
     "text": [
      "ans =\n",
      "\n",
      "   2   3   4\n",
      "\n",
      "ans =\n",
      "\n",
      "   2   4   6\n",
      "\n",
      "ans =\n",
      "\n",
      "  1  1  1\n",
      "\n",
      "ans =  1\n",
      "ans = 1\n"
     ]
    }
   ],
   "source": [
    "arrayfun(@(n)(n+1), [1, 2, 3])\n",
    "arrayfun(@(n)(2*n), [1, 2, 3])\n",
    "\n",
    "arrayfun(@(n)( det(A(1:n, 1:n)) > 0 ), 1:rows(A))\n",
    "\n",
    "prod(arrayfun(@(n)( det(A(1:n, 1:n)) > 0 ), 1:rows(A)))\n",
    "\n",
    "all(arrayfun(@(n)( det(A(1:n, 1:n)) > 0 ), 1:rows(A)))"
   ]
  },
  {
   "cell_type": "code",
   "execution_count": 40,
   "metadata": {},
   "outputs": [
    {
     "name": "stdout",
     "output_type": "stream",
     "text": [
      "ans = 1\n",
      "ans = 0\n"
     ]
    }
   ],
   "source": [
    "all([1,1,1])\n",
    "all([1,0,1])"
   ]
  },
  {
   "cell_type": "markdown",
   "metadata": {},
   "source": [
    "<b>4.feladat.</b> Írjunk olyan programot, mely eldönti, hogy a mátrix szigorúan diagonálisan domináns-e vagy sem!"
   ]
  },
  {
   "cell_type": "code",
   "execution_count": 47,
   "metadata": {},
   "outputs": [
    {
     "name": "stdout",
     "output_type": "stream",
     "text": [
      "ans =\n",
      "\n",
      "   4\n",
      "   3\n",
      "   7\n",
      "\n",
      "ans =\n",
      "\n",
      "Diagonal Matrix\n",
      "\n",
      "   4   0   0\n",
      "   0   3   0\n",
      "   0   0   7\n",
      "\n",
      "ans =\n",
      "\n",
      "Diagonal Matrix\n",
      "\n",
      "   1   0   0\n",
      "   0   2   0\n",
      "   0   0   3\n",
      "\n",
      "ans =\n",
      "\n",
      "  1\n",
      "  1\n",
      "  1\n",
      "\n",
      "ans = 1\n"
     ]
    }
   ],
   "source": [
    "A=[4 1 0; \n",
    "   1 3 0;\n",
    "  -2 1 7];\n",
    "  \n",
    "%minden sorindex (i-re): \n",
    "%|a_ii| > sum_{j, j!= i} |a_ij|\n",
    "%2*|a_ii| > sum_{j} |a_{ij}|\n",
    "diag(A)\n",
    "diag(diag(A))\n",
    "diag([1,2,3])\n",
    "\n",
    "2*diag(abs(A)) > sum(abs(A), 2)\n",
    "all(2*diag(abs(A)) > sum(abs(A), 2))"
   ]
  },
  {
   "cell_type": "markdown",
   "metadata": {},
   "source": [
    "<b>5.feladat.</b> Írjunk olyan programot, mely eldönti, hogy a mátrix az M-mátrix definícióhoz tartozó előjeleloszlás tulajdonsággal rendelkezik-e vagy sem!"
   ]
  },
  {
   "cell_type": "code",
   "execution_count": 12,
   "metadata": {},
   "outputs": [],
   "source": [
    "A=[ 4 -1  0;\n",
    "   -1  3  0;\n",
    "   -2 -1  7];"
   ]
  }
 ],
 "metadata": {
  "kernelspec": {
   "display_name": "Octave",
   "language": "octave",
   "name": "octave"
  },
  "language_info": {
   "file_extension": ".m",
   "help_links": [
    {
     "text": "GNU Octave",
     "url": "https://www.gnu.org/software/octave/support.html"
    },
    {
     "text": "Octave Kernel",
     "url": "https://github.com/Calysto/octave_kernel"
    },
    {
     "text": "MetaKernel Magics",
     "url": "https://github.com/calysto/metakernel/blob/master/metakernel/magics/README.md"
    }
   ],
   "mimetype": "text/x-octave",
   "name": "octave",
   "version": "4.2.2"
  }
 },
 "nbformat": 4,
 "nbformat_minor": 2
}
