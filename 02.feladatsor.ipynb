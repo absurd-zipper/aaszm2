{
 "cells": [
  {
   "cell_type": "markdown",
   "metadata": {},
   "source": [
    "### 2. Feladatsor"
   ]
  },
  {
   "cell_type": "markdown",
   "metadata": {},
   "source": [
    "<b>1.feladat.</b> Tegyük fel, hogy megbíznak minket egy gyöngysor gyöngyeinek lemérésével. Mivel a láncot nem darabolhatjuk fel, ezért mérlegünkkel egy mérés során 3 szomszédos gyöngyöt tudunk lemérni. A mért értékek rendelkezésünkre állnak egy vektorban. Fordítsuk le a feladatot a lineáris algebra nyelvére, majd oldjuk is meg ha \n",
    "\n",
    "a) a lánc kicsatolható (azaz a két szélső gyöngy súlyát le tudjuk mérni közvetlenül),\n",
    "\n",
    "b) a lánc nem csatolható ki!"
   ]
  },
  {
   "cell_type": "markdown",
   "metadata": {},
   "source": [
    "<b>1*.feladat.</b> Gondoljuk meg az előző feladatot eggyel magasabb dimenzióban. Ekkor egy \"gyöngyszőnyeg\" elemeit kell lemérnünk, ha\n",
    "\n",
    "a) a szőnyeg szélén lévő gyöngyök külön lemérhetők,\n",
    "\n",
    "b) a szőnyeg szélei össze vannak kötve, igy az egy tórusz alakját ölti a térben."
   ]
  },
  {
   "cell_type": "markdown",
   "metadata": {},
   "source": [
    "<b>2.feladat.</b> Mérjük le, hogy az előző feladatban szereplő egyenlet megoldásához szükséges idő hogyan változik a gyöngyök számának növelésével.\n",
    "\n",
    "a) A mérési eredményeinket foglaljuk vektorba, majd\n",
    "\n",
    "b) ábrázoljuk ezeket egy hagyományos és egy log-log ábrán\n",
    "\n",
    "c) mit tudunk leolvasni az utóbbiból?"
   ]
  },
  {
   "cell_type": "markdown",
   "metadata": {},
   "source": [
    "<b>3.feladat.</b> Tegyük fel, hogy az ügyfél elégedett munkánkkal, ezért megbíz minket rengeteg lánc adatainak ellenőrzésével. Milyen ötletekkel tudjuk hatékonyabban elvégezni a mérési eredmények alapján a számolást?"
   ]
  },
  {
   "cell_type": "markdown",
   "metadata": {},
   "source": [
    "<b>4.feladat.</b> Mérjük le, hogy az előző feladatban szereplő feladat megoldásához szükséges idő hogyan változik a gyöngyök számának növelésével.\n",
    "\n",
    "a) A mérési eredményeinket foglaljuk vektorba, majd\n",
    "\n",
    "b) ábrázoljuk ezeket egy hagyományos és egy log-log ábrán\n",
    "\n",
    "c) mit tudunk leolvasni az utóbbiból?"
   ]
  }
 ],
 "metadata": {
  "kernelspec": {
   "display_name": "Octave",
   "language": "octave",
   "name": "octave"
  },
  "language_info": {
   "file_extension": ".m",
   "help_links": [
    {
     "text": "GNU Octave",
     "url": "https://www.gnu.org/software/octave/support.html"
    },
    {
     "text": "Octave Kernel",
     "url": "https://github.com/Calysto/octave_kernel"
    },
    {
     "text": "MetaKernel Magics",
     "url": "https://metakernel.readthedocs.io/en/latest/source/README.html"
    }
   ],
   "mimetype": "text/x-octave",
   "name": "octave",
   "version": "5.2.0"
  }
 },
 "nbformat": 4,
 "nbformat_minor": 4
}
