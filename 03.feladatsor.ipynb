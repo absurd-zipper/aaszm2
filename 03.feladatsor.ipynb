{
 "cells": [
  {
   "cell_type": "markdown",
   "metadata": {},
   "source": [
    "### 3. Feladatsor\n",
    "\n",
    "Lineáris (algebrai) egyenletrendszerek <sup>LAER</sup> iteratív megoldása"
   ]
  },
  {
   "cell_type": "markdown",
   "metadata": {},
   "source": [
    "#### Emlék (Fixpont-tétel):\n",
    "\n",
    "Legyen $X$ Banach-tér (elég: teljes, metrikus), $f: X \\to X$ kontrakció, azaz $\\exists c \\in [0, 1)$, amire\n",
    "\n",
    "$$\n",
    "  \\forall x,y \\in X \\quad \\| f(x) - f(y) \\|  \\leq c\\| x - y \\|. \n",
    "$$\n",
    "Ekkor $f$-nek egyértelmű fixpontja van, azaz $\\exists! x^* \\in X\\colon f(x^*) = x^*$, továbbá tetszőleges $x_0 \\in X$ pontból indítva az $x_{n+1} = f(x_n)$ iterációt, a határérték $x^*$ lesz.\n"
   ]
  },
  {
   "cell_type": "markdown",
   "metadata": {},
   "source": [
    "Például: $X = \\mathbb{R}, f(x) = \\frac12 x$ esetén $$x_n = 2^{-n}x_0 \\to x^* = 0, \\quad f(0) = 0.$$"
   ]
  },
  {
   "cell_type": "markdown",
   "metadata": {},
   "source": [
    "#### 1. feladat\n",
    "\n",
    "Írjunk függvényt, ami kiszámolja az egyszerű iteráció $n.$ iteráltját."
   ]
  },
  {
   "cell_type": "code",
   "execution_count": 1,
   "metadata": {},
   "outputs": [
    {
     "name": "stdout",
     "output_type": "stream",
     "text": [
      "ans =  0.097656\n",
      "ans =  0.097656\n"
     ]
    }
   ],
   "source": [
    "function x = fixpontit(f, x0, max_it)\n",
    "    x = x0;\n",
    "    for i=1:max_it\n",
    "        x = f(x); \n",
    "    end\n",
    "end\n",
    "\n",
    "fixpontit(@(x)(x/2), 100, 10), 100/2^10"
   ]
  },
  {
   "cell_type": "markdown",
   "metadata": {},
   "source": [
    "Használjuk ezt az $$ Ax^*-b = 0$$ egyenlet megoldására, azaz keressünk olyan $f$ kontrakciót, aminek $x^*$ fixpontja. "
   ]
  },
  {
   "cell_type": "markdown",
   "metadata": {},
   "source": [
    "A két oldalt negálva, majd $x^*$-ot hozzájuk adva már is egy lehetséges alakhoz jutunk:\n",
    "$$\n",
    "\\begin{align*}\n",
    "x^* - (Ax^* - b) = x^*\n",
    "\\end{align*}\n",
    "$$"
   ]
  },
  {
   "cell_type": "markdown",
   "metadata": {},
   "source": [
    "Azonban $f(x) = x^* - (Ax^* - b) = (I-A)x^* + b$ tipikusan nem kontrakció, így az\n",
    "$$\n",
    " x_{k+1}  = f(x_k) = (I-A)x_k + b\n",
    "$$\n",
    "iteráció konvergenciája nem garantált."
   ]
  },
  {
   "cell_type": "markdown",
   "metadata": {},
   "source": [
    "Persze ha $\\|I-A\\| < 1$ valamilyen indukált mátrixnormában, akkor\n",
    "$$\n",
    "\\| f(x) - f(y) \\|  = \\| (I - A)(x - y)\\| \\leq \\|I-A\\| \\|x - y\\|,\n",
    "$$\n",
    "így ebben az esetben az iteráció kezdőponttól függetlenül konvergálni fog $x^*$-hoz. "
   ]
  },
  {
   "cell_type": "markdown",
   "metadata": {},
   "source": [
    "A továbbiakban az $M$ iterációs mátrix (fent $I-A$) szimmetrikus, ezért kényelmes a $2-$es normát használni, ami ebben az esetben $$\\| M \\|_2 = \\max_i(|\\lambda_i(M)|) =: \\rho(M) = \\max(|\\lambda_{\\min}(M)|, |\\lambda_{\\max}(M)|).$$"
   ]
  },
  {
   "cell_type": "markdown",
   "metadata": {},
   "source": [
    "#### Richardson-iterációt\n",
    "\n",
    "Alapötlet:\n",
    "$$\n",
    "\\begin{align*}\n",
    "     Ax &= b \\\\\n",
    "     0 &= - \\omega (Ax - b)  \\\\\n",
    "     x &= x - \\omega (Ax - b) \\\\\n",
    "       &= (I-\\omega A)x + b\n",
    "\\end{align*}\n",
    "$$"
   ]
  },
  {
   "cell_type": "markdown",
   "metadata": {},
   "source": [
    "azaz, a megfelelő függvény és iteráció:\n",
    "$$f(x) = (I-\\omega A)x + b, \\\\ x_{k+1} = (I-\\omega A)x_k + b.$$"
   ]
  },
  {
   "cell_type": "markdown",
   "metadata": {},
   "source": [
    "\n",
    "Ebben az esetben tehát a konvergencia az $\\|I-\\omega A\\|_2$ értéken fog múlni, ami nem más, mint\n",
    "\n",
    "$$\n",
    "\\rho(I - \\omega A) = \\max_i |1 - \\omega \\lambda_i(A)|.\n",
    "$$\n",
    "\n",
    "Az optimális $\\omega$ tehát előáll, mint a\n",
    "$$\n",
    " \\operatorname{argmin}_{\\omega} \\max_i |1 - \\omega \\lambda_i(A)|\n",
    "$$\n",
    "feladat megoldása."
   ]
  },
  {
   "cell_type": "markdown",
   "metadata": {},
   "source": [
    "Tekintsük néhány $a > 0$ esetén az $$ \\omega \\mapsto |1 - a\\omega| $$ függvényt."
   ]
  },
  {
   "cell_type": "code",
   "execution_count": 2,
   "metadata": {},
   "outputs": [
    {
     "data": {
      "image/png": "[encoded data removed]",
      "text/plain": [
       "<IPython.core.display.Image object>"
      ]
     },
     "metadata": {},
     "output_type": "display_data"
    }
   ],
   "source": [
    "for a=[2,4,6,8]\n",
    "    plot(linspace(0,.7,70), abs(1 - a*linspace(0,.7,70))); hold on\n",
    "end\n",
    "scatter([.2], [.6], [1000], 'o'); hold on\n",
    "scatter([.25], [1], [1000], 'o'); hold on\n",
    "line ([0 .7], [1 1], \"linestyle\", \"--\", \"color\", \"k\");\n",
    "legend(arrayfun(@int2str, [2,4,6,8], \"UniformOutput\", 0))\n",
    "xlabel(\"\\\\omega\")\n",
    "ylabel(\"\\|1 - a\\\\omega\\|\")"
   ]
  },
  {
   "cell_type": "markdown",
   "metadata": {},
   "source": [
    "Azaz ha $A > 0$, akkor a két fontos metszéspontot rendre az\n",
    "$$\n",
    "|1 - \\lambda_\\max\\omega| = 1, \\quad |1 - \\lambda_\\max \\omega| = |1 - \\lambda_\\min \\omega|\n",
    "$$\n",
    "egyenletek határozzák meg. Következik, hogy\n",
    "$$0 < \\omega < \\frac{2}{{\\lambda_\\max(A)}}$$ megfelelő, $$\\omega_{opt} = \\frac{2}{\\lambda_{\\min}(A) + \\lambda_{\\max}(A)}$$ optimális."
   ]
  },
  {
   "cell_type": "markdown",
   "metadata": {},
   "source": [
    "#### Rövid reklámszünet: leállási feltételek\n",
    "\n",
    "Meddig érdemes folytatni az iterációt? Ötletek?"
   ]
  },
  {
   "cell_type": "markdown",
   "metadata": {},
   "source": [
    "1. Tegyünk max. $n$ lépést: *MAXIT*."
   ]
  },
  {
   "cell_type": "markdown",
   "metadata": {},
   "source": [
    "2. Ha $\\| x_{k+1} - x_k \\|$ kicsi, akkor valószínűleg közel járhatunk a megoldáshoz: *ATOL*."
   ]
  },
  {
   "cell_type": "markdown",
   "metadata": {},
   "source": [
    "  3. Ha $x_k$ minden tagja nagyon kicsi vagy nagyon nagy, akkor *ATOL* önmagában nem elég jó, ezért tekintsük a $\\frac{\\| x_{k+1} - x_k \\|}{\\|x_k\\|}$ mennyiséget: *RTOL*."
   ]
  },
  {
   "cell_type": "markdown",
   "metadata": {},
   "source": [
    "#### 2. feladat\n",
    "Írjunk Richardson-iterációt. Kombináljuk kedvünkre a különböző leállási feltételeket, ezekhez válasszunk nekünk szimpatikus vektornormát.. például választhatjuk a\n",
    "$$\n",
    "\\|x\\|_{RFNWRMSE} = \\sqrt{\\sum_j \\frac{1}{F_j} x_j^2}\n",
    "$$\n",
    "formulával adott *reciprocal fibonacci number weighted root mean square error* normát is, ahol $F_j$ a $j.$ Fibonacci-szám $(F_0 = F_1 = 1)$."
   ]
  },
  {
   "cell_type": "code",
   "execution_count": null,
   "metadata": {},
   "outputs": [],
   "source": []
  },
  {
   "cell_type": "markdown",
   "metadata": {},
   "source": [
    "#### A Jacobi, Gauss-Seidel, S<sub>ucessive</sub>O<sub>ver</sub>R<sub>elaxation</sub> iterációk"
   ]
  },
  {
   "cell_type": "markdown",
   "metadata": {},
   "source": [
    "__Tétel:__ Ha $A$ M-mátrix, akkor a Jacobi, GS iterációk és ezek relaxált változatai $\\omega\\in (0,1)$ mellett tetszőleges kezdeti vektor esetén konvergálnak az egyenletrendszer megoldásához.\n",
    "\n",
    "__Tétel:__ Ha $A$ SZDD, akkor a Jacobi és GS iterációk tetszőleges kezdeti vektor esetén konvergálnak az egyenletrendszer megoldásához.\n",
    "\n",
    "__Tétel:__ Ha $A$ SZPD, akkor a GS iteráció és SOR módszer $\\omega\\in (0,2)$ iterációk tetszőleges kezdeti vektor esetén konvergálnak az egyenletrendszer megoldásához."
   ]
  },
  {
   "cell_type": "code",
   "execution_count": 3,
   "metadata": {},
   "outputs": [
    {
     "name": "stdout",
     "output_type": "stream",
     "text": [
      "A =\n",
      "\n",
      "   3   2\n",
      "   3   2\n",
      "\n",
      "L =\n",
      "\n",
      "   0   0\n",
      "   3   0\n",
      "\n",
      "D =\n",
      "\n",
      "Diagonal Matrix\n",
      "\n",
      "   3   0\n",
      "   0   2\n",
      "\n",
      "U =\n",
      "\n",
      "   0   2\n",
      "   0   0\n",
      "\n"
     ]
    }
   ],
   "source": [
    "A = randi(3,2)\n",
    "\n",
    "[L, D, U] = {tril(A, -1), diag(diag(A)), triu(A, 1)}{:}"
   ]
  },
  {
   "cell_type": "markdown",
   "metadata": {},
   "source": [
    "#### 3. feladat\n",
    "Írjunk Jacobi-iterációt. \n",
    "\n",
    "Alapötlet:\n",
    "$$\n",
    "\\begin{align*}\n",
    "     Ax &= b \\\\\n",
    "     (L+D+U)x &= b  \\\\\n",
    "Dx &= ( b - (L+U)x) \\\\ \n",
    "x &= D^{-1}(b - (L+U)x)\n",
    "\\end{align*}\n",
    "$$\n",
    "azaz, a megfelelő függvény és iteráció:\n",
    "$$f(x) = D^{-1}\\left(-(L+U)x + b\\right), \\\\ x_{k+1} = D^{-1}\\left(-(L+U)x_k + b\\right).$$"
   ]
  },
  {
   "cell_type": "code",
   "execution_count": null,
   "metadata": {},
   "outputs": [],
   "source": []
  },
  {
   "cell_type": "markdown",
   "metadata": {},
   "source": [
    "#### 4. feladat\n",
    "Írjunk Gauss-Seidel-iterációt. \n",
    "\n",
    "Alapötlet:\n",
    "$$\n",
    "\\begin{align*}\n",
    "     Ax &= b \\\\\n",
    "     (L+D+U)x &= b  \\\\\n",
    "(L+D)x &= ( b - Ux) \\\\ \n",
    "x &= (L+D)^{-1}(b - Ux)\n",
    "\\end{align*}\n",
    "$$\n",
    "azaz, a megfelelő függvény és iteráció:\n",
    "$$f(x) = (L+D)^{-1}\\left(-Ux + b\\right) \\\\ x_{k+1} = (L+D)^{-1}\\left(-Ux_k + b\\right).$$"
   ]
  },
  {
   "cell_type": "code",
   "execution_count": null,
   "metadata": {},
   "outputs": [],
   "source": []
  },
  {
   "cell_type": "markdown",
   "metadata": {},
   "source": [
    "#### 5. feladat\n",
    "Írjunk SOR iterációt. \n",
    "\n",
    "Alapötlet:\n",
    "$$\n",
    "\\begin{align*}\n",
    "     Ax &= b \\\\\n",
    "     \\omega (L+D+U)x &= \\omega b  \\\\\n",
    "(D + \\omega L)x &= \\omega b - (\\omega U + (\\omega - 1)D)x \\\\ \n",
    "x &= (D + \\omega L)^{-1}(\\omega b - (\\omega U + (\\omega - 1)D)x)\n",
    "\\end{align*}\n",
    "$$\n",
    "azaz, a megfelelő függvény és iteráció:\n",
    "$$f(x) = (D + \\omega L)^{-1}(\\omega b - (\\omega U + (\\omega - 1)D)x), \\\\ x_{k+1} = (D + \\omega L)^{-1}(\\omega b - (\\omega U + (\\omega - 1)D)x_k). $$"
   ]
  },
  {
   "cell_type": "code",
   "execution_count": null,
   "metadata": {},
   "outputs": [],
   "source": []
  }
 ],
 "metadata": {
  "kernelspec": {
   "display_name": "Octave",
   "language": "octave",
   "name": "octave"
  },
  "language_info": {
   "file_extension": ".m",
   "help_links": [
    {
     "text": "GNU Octave",
     "url": "https://www.gnu.org/software/octave/support.html"
    },
    {
     "text": "Octave Kernel",
     "url": "https://github.com/Calysto/octave_kernel"
    },
    {
     "text": "MetaKernel Magics",
     "url": "https://metakernel.readthedocs.io/en/latest/source/README.html"
    }
   ],
   "mimetype": "text/x-octave",
   "name": "octave",
   "version": "5.2.0"
  }
 },
 "nbformat": 4,
 "nbformat_minor": 4
}
