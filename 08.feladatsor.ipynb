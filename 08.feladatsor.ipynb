{
 "cells": [
  {
   "cell_type": "markdown",
   "metadata": {},
   "source": [
    "### 8. Feladatsor\n",
    "\n",
    "Rendmérés pontos megoldás nélkül, linearizáció"
   ]
  },
  {
   "cell_type": "markdown",
   "metadata": {},
   "source": [
    "#### 1. Feladat\n",
    "\n",
    "Tekintsük az\n",
    "$$\n",
    "\\begin{align}\n",
    "     \\dot x &= x^2 \\quad [0, 1]\\text{-en}\\\\\n",
    "     x_0 &= .5\n",
    "\\end{align}\n",
    "$$\n",
    "feladatot. Oldjuk is meg az EE módszerrel."
   ]
  },
  {
   "cell_type": "code",
   "execution_count": 1,
   "metadata": {},
   "outputs": [],
   "source": [
    "function [ts, ys] = explicit_euler(f, ts, y0)\n",
    "    ys = zeros(numel(y0), numel(ts));\n",
    "    ys(:, 1) = y0;\n",
    "    \n",
    "    for n=1:(numel(ts) - 1)\n",
    "        h = ts(n+1) - ts(n);\n",
    "        \n",
    "        k1 = f(ts(n), ys(:, n));\n",
    "\n",
    "        ys(:, n+1) = ys(:, n) + h * k1;\n",
    "    end\n",
    "end"
   ]
  },
  {
   "cell_type": "code",
   "execution_count": 2,
   "metadata": {},
   "outputs": [],
   "source": [
    "[ts, ys] = explicit_euler(@(t, x)(x.^2), 0:.1:1, .5);"
   ]
  },
  {
   "cell_type": "markdown",
   "metadata": {},
   "source": [
    "a) Megoldásainkat hasonlítsuk össsze a pontos megoldással, a végeredmény legyen a hibavektorok (valamilyen normában mért) hossza."
   ]
  },
  {
   "cell_type": "code",
   "execution_count": 3,
   "metadata": {},
   "outputs": [
    {
     "data": {
      "image/png": "[encoded data removed]",
      "text/plain": [
       "<IPython.core.display.Image object>"
      ]
     },
     "metadata": {},
     "output_type": "display_data"
    }
   ],
   "source": [
    "plot(ts, ys, 'o-'); hold on\n",
    "plot(ts, 1./(2-ts), '-o')\n",
    "\n",
    "legend('numerikus mo.', 'pontos mo.')"
   ]
  },
  {
   "cell_type": "code",
   "execution_count": 4,
   "metadata": {},
   "outputs": [
    {
     "data": {
      "image/png": "[encoded data removed]",
      "text/plain": [
       "<IPython.core.display.Image object>"
      ]
     },
     "metadata": {},
     "output_type": "display_data"
    }
   ],
   "source": [
    "err = abs(ys - 1./(2-ts));\n",
    "\n",
    "plot(ts, err, 'o-')\n",
    "legend('hiba')"
   ]
  },
  {
   "cell_type": "markdown",
   "metadata": {},
   "source": [
    "\n",
    "b) A feladat segítségével mérjük le a módszer rendjét."
   ]
  },
  {
   "cell_type": "code",
   "execution_count": 5,
   "metadata": {},
   "outputs": [],
   "source": [
    "function errs = measure_errors(hs, method)\n",
    "    errs = zeros(1, numel(hs));\n",
    "        \n",
    "    for k=1:numel(hs)\n",
    "        h = hs(k);\n",
    "        [ts, ys] = method(@(t, x)(x.^2), 0:h:1, .5);\n",
    "        \n",
    "        err = abs(ys - 1./(2-ts));\n",
    "        errs(k) = max(abs(err));\n",
    "    end\n",
    "end"
   ]
  },
  {
   "cell_type": "code",
   "execution_count": 6,
   "metadata": {},
   "outputs": [
    {
     "name": "stdout",
     "output_type": "stream",
     "text": [
      "hs =\n",
      "\n",
      "   0.10000000   0.01000000   0.00100000   0.00010000\n",
      "\n",
      "errs =\n",
      "\n",
      "   0.057795158   0.006792445   0.000691727   0.000069300\n",
      "\n"
     ]
    }
   ],
   "source": [
    "hs = .1.^(1:4)\n",
    "errs = measure_errors(hs, @explicit_euler)"
   ]
  },
  {
   "cell_type": "markdown",
   "metadata": {},
   "source": [
    "c) Feltéve, hogy tudunk olyan lépéshosszt választani, amivel a módszerünk elég pontos numerikus megoldást produkál, hogyan tudnánk a pontos megoldás ismerete nélkül lemérni a módszer rendjét?"
   ]
  },
  {
   "cell_type": "code",
   "execution_count": 7,
   "metadata": {},
   "outputs": [],
   "source": [
    "function errs = measure_errors_without_refsol(hs, method)\n",
    "    errs = zeros(1, numel(hs));\n",
    "    \n",
    "    [_, refsol] = method(@(t, x)(x.^2), 0:(hs(end)/4):1, .5);\n",
    "    for k=1:numel(hs)\n",
    "        h = hs(k);\n",
    "        [ts, ys] = method(@(t, x)(x.^2), 0:h:1, .5);\n",
    "        \n",
    "        sampled_refsol = refsol(1:4*(10)^(numel(hs) - k):end);       \n",
    "        err = abs(ys - sampled_refsol);\n",
    "        errs(k) = max(abs(err));\n",
    "    end\n",
    "end"
   ]
  },
  {
   "cell_type": "code",
   "execution_count": 8,
   "metadata": {},
   "outputs": [
    {
     "name": "stdout",
     "output_type": "stream",
     "text": [
      "ts4 =\n",
      "\n",
      "    0.00000    0.25000    0.50000    0.75000    1.00000\n",
      "\n"
     ]
    }
   ],
   "source": [
    "ts4 = 0:(1/4):1"
   ]
  },
  {
   "cell_type": "code",
   "execution_count": 9,
   "metadata": {},
   "outputs": [
    {
     "name": "stdout",
     "output_type": "stream",
     "text": [
      "ts8 =\n",
      "\n",
      " Columns 1 through 7:\n",
      "\n",
      "    0.00000    0.12500    0.25000    0.37500    0.50000    0.62500    0.75000\n",
      "\n",
      " Columns 8 and 9:\n",
      "\n",
      "    0.87500    1.00000\n",
      "\n"
     ]
    }
   ],
   "source": [
    "ts8 = 0:(1/8):1"
   ]
  },
  {
   "cell_type": "code",
   "execution_count": 10,
   "metadata": {},
   "outputs": [
    {
     "name": "stdout",
     "output_type": "stream",
     "text": [
      "ans =\n",
      "\n",
      "   0.00000   0.25000   0.50000   0.75000   1.00000\n",
      "\n",
      "ans =\n",
      "\n",
      "   0   0   0   0   0\n",
      "\n"
     ]
    }
   ],
   "source": [
    "ts8(1:2:end)\n",
    "ts4 - ts8(1:2:end)"
   ]
  },
  {
   "cell_type": "code",
   "execution_count": 11,
   "metadata": {},
   "outputs": [
    {
     "name": "stdout",
     "output_type": "stream",
     "text": [
      "hs =\n",
      "\n",
      "   0.10000000   0.01000000   0.00100000   0.00010000\n",
      "\n",
      "errs =\n",
      "\n",
      "   0.057777830   0.006775117   0.000674399   0.000051973\n",
      "\n"
     ]
    }
   ],
   "source": [
    "hs = .1.^(1:4)\n",
    "errs = measure_errors_without_refsol(hs, @explicit_euler)"
   ]
  },
  {
   "cell_type": "markdown",
   "metadata": {},
   "source": [
    "#### 2. feladat\n",
    "\n",
    "Tekintsük a kétdimenziós lineáris autonóm egyenletek esetét:\n",
    "$$\n",
    "    \\dot x = Ax,\n",
    "$$\n",
    "ahol $A \\in \\mathbb{R^{2\\times 2}}$-es mátrix. Világos, hogy a $0$ egyensúlyi pont, hiszen $A0 = 0$.\n",
    "\n",
    "a) Adott $A$ mátrix esetén ábrázoljuk az egyenlet fázisképét a $0$ körül, illetve néhány numerikus megoldás trajektóriáját is."
   ]
  },
  {
   "cell_type": "code",
   "execution_count": 12,
   "metadata": {},
   "outputs": [],
   "source": [
    "function helper3(A, h)\n",
    "    A\n",
    "    [X, Y] = meshgrid(-1:.1:1, -1:.1:1);\n",
    "\n",
    "    UV=(A * [X(:)'; Y(:)']);\n",
    "    U = reshape(UV(1, :),size(X));\n",
    "    V = reshape(UV(2, :), size(Y));\n",
    "    quiver(X, Y, U, V)\n",
    "    xlim([-1, 1])\n",
    "    ylim([-1, 1])\n",
    "    hold on;\n",
    "\n",
    "    [ts, ys] = explicit_euler(@(t, x)(A*x), 0:h:(pi), .5*[-.5; .5*sqrt(3)/2]);\n",
    "    plot(ys(1, :), ys(2, :), 'o-r')\n",
    "\n",
    "    hold on;\n",
    "\n",
    "    [ts, ys] = explicit_euler(@(t, x)(A*x), 0:h:(pi), .5*[.5; -sqrt(3)/2]);\n",
    "    plot(ys(1, :), ys(2, :), 'o-g')\n",
    "end"
   ]
  },
  {
   "cell_type": "code",
   "execution_count": 13,
   "metadata": {},
   "outputs": [
    {
     "name": "stdout",
     "output_type": "stream",
     "text": [
      "A =\n",
      "\n",
      "   0   1\n",
      "   1   0\n",
      "\n"
     ]
    },
    {
     "data": {
      "image/png": "[encoded data removed]",
      "text/plain": [
       "<IPython.core.display.Image object>"
      ]
     },
     "metadata": {},
     "output_type": "display_data"
    }
   ],
   "source": [
    "A = [0 1; \n",
    "     1 0];\n",
    "helper3(A, .1)"
   ]
  },
  {
   "cell_type": "markdown",
   "metadata": {},
   "source": [
    "b) Alkalmazzunk hasonlósági transzformációt $A$-ra. Mi történik a fázisképpel?"
   ]
  },
  {
   "cell_type": "code",
   "execution_count": 14,
   "metadata": {},
   "outputs": [
    {
     "name": "stdout",
     "output_type": "stream",
     "text": [
      "A2 =\n",
      "\n",
      "   0.94807   0.31805\n",
      "   0.31805  -0.94807\n",
      "\n",
      "A =\n",
      "\n",
      "   0.94807   0.31805\n",
      "   0.31805  -0.94807\n",
      "\n"
     ]
    },
    {
     "data": {
      "image/png": "[encoded data removed]",
      "text/plain": [
       "<IPython.core.display.Image object>"
      ]
     },
     "metadata": {},
     "output_type": "display_data"
    }
   ],
   "source": [
    "S = randi(100, [2 2]);\n",
    "[Q, _] = qr(S);\n",
    "A2 = Q' * A * Q\n",
    "helper3(A2, .1)"
   ]
  },
  {
   "cell_type": "markdown",
   "metadata": {},
   "source": [
    "c) Mik az eredeti és a transzformált rendszer sajátértékei? Feltéve, hogy $A$ diagonalizálható, milyen a diagonalizált rendszer fázisképe ?"
   ]
  },
  {
   "cell_type": "code",
   "execution_count": 19,
   "metadata": {},
   "outputs": [
    {
     "name": "stdout",
     "output_type": "stream",
     "text": [
      "ans =\n",
      "\n",
      "  -1\n",
      "   1\n",
      "\n",
      "ans =\n",
      "\n",
      "  -1.00000\n",
      "   1.00000\n",
      "\n"
     ]
    }
   ],
   "source": [
    "eig(A)\n",
    "eig(A2)"
   ]
  },
  {
   "cell_type": "code",
   "execution_count": 20,
   "metadata": {},
   "outputs": [
    {
     "name": "stdout",
     "output_type": "stream",
     "text": [
      "A =\n",
      "\n",
      "Diagonal Matrix\n",
      "\n",
      "  -1   0\n",
      "   0   1\n",
      "\n"
     ]
    },
    {
     "data": {
      "image/png": "[encoded data removed]",
      "text/plain": [
       "<IPython.core.display.Image object>"
      ]
     },
     "metadata": {},
     "output_type": "display_data"
    }
   ],
   "source": [
    "helper3(diag(eig(A)), .1)"
   ]
  },
  {
   "cell_type": "markdown",
   "metadata": {},
   "source": [
    "d) Mi a pontos megoldást megadó képlet? $x(1) = e^{A\\cdot 1} x(0)$"
   ]
  },
  {
   "cell_type": "code",
   "execution_count": 21,
   "metadata": {},
   "outputs": [
    {
     "name": "stdout",
     "output_type": "stream",
     "text": [
      "ans =\n",
      "\n",
      "   1.5431   1.1752\n",
      "   1.1752   1.5431\n",
      "\n"
     ]
    }
   ],
   "source": [
    "expm(A)"
   ]
  },
  {
   "cell_type": "markdown",
   "metadata": {},
   "source": [
    "e) Közelítsük az $e^A$ mátrixot az EE módszer segítségével."
   ]
  },
  {
   "cell_type": "code",
   "execution_count": 22,
   "metadata": {},
   "outputs": [
    {
     "name": "stdout",
     "output_type": "stream",
     "text": [
      "eA_approx =\n",
      "\n",
      "   1.5423   1.1746\n",
      "   1.1746   1.5423\n",
      "\n"
     ]
    }
   ],
   "source": [
    "eA_approx = zeros(2);\n",
    "h = .001;\n",
    "[ts, ys] = explicit_euler(@(t, x)(A*x), 0:h:1, [1; 0]);\n",
    "eA_approx(:, 1) = ys(:, end);\n",
    "[ts, ys] = explicit_euler(@(t, x)(A*x), 0:h:1, [0; 1]);\n",
    "eA_approx(:, 2) = ys(:, end)"
   ]
  },
  {
   "cell_type": "markdown",
   "metadata": {},
   "source": [
    "#### 3. feladat\n",
    "A Hartman-Grobman-tétel értelmében ha $f:\\mathbb{R}^2 \\to \\mathbb{R^2}$ elég szép, és a $0$ hiperbolikus egyensúlyi pontja, azaz $f(0) = 0$, valamint $A = f'(0)$ olyan, hogy $0 \\notin \\Re(\\sigma(A))$, akkor az\n",
    "$$\n",
    "  \\dot x = f(x)\n",
    "$$\n",
    "és az\n",
    "$$\n",
    "    \\dot x = Ax\n",
    "$$\n",
    "egyenleteknek a $0$ körüli fázisképe \n",
    "bizonyos értelemben ekvivalens."
   ]
  },
  {
   "cell_type": "markdown",
   "metadata": {},
   "source": [
    "a) Konstruáljunk erre példát. Induljunk ki egy egyszerű mátrixból, keressünk hozzá megfelelő $f$ leképezést, azaz keressük a függvényt $f(x) = Ax + n(x)$ alakban, ahol $n'(0) = 0, n(0) = 0$."
   ]
  },
  {
   "cell_type": "code",
   "execution_count": null,
   "metadata": {},
   "outputs": [],
   "source": []
  },
  {
   "cell_type": "markdown",
   "metadata": {},
   "source": [
    "b) Ábrázoljuk a két egyenlet $0$ körüli fázisképét."
   ]
  },
  {
   "cell_type": "code",
   "execution_count": null,
   "metadata": {},
   "outputs": [],
   "source": []
  },
  {
   "cell_type": "markdown",
   "metadata": {},
   "source": [
    "#### 4. feladat\n",
    "Tekintsük a\n",
    "\n",
    "$$\n",
    "    \\sum_{k = 0}^s \\alpha_k y_{n-k} = h_{n-1}\\sum_{k = 0}^s  \\beta_k f_{n-k}\n",
    "$$\n",
    "\n",
    "formulával adott lineáris többlépéses módszereket. Tegyük fel, hogy $\\alpha_0 = 1$ az egyértelműség kedvéért, valamint, hogy $\\beta_0 = 0$, azaz explicit módszerről van szó."
   ]
  },
  {
   "cell_type": "markdown",
   "metadata": {},
   "source": [
    "a) Milyen $\\alpha_k$, $\\beta_k$ választással kapjuk vissza az explicit Euler módszert?"
   ]
  },
  {
   "cell_type": "code",
   "execution_count": null,
   "metadata": {},
   "outputs": [],
   "source": []
  },
  {
   "cell_type": "markdown",
   "metadata": {},
   "source": [
    "b) Implementáljunk egy nekünk tetsző paraméterezésű módszert ([inspiráció](https://en.wikipedia.org/wiki/Linear_multistep_method))."
   ]
  },
  {
   "cell_type": "code",
   "execution_count": null,
   "metadata": {},
   "outputs": [],
   "source": []
  },
  {
   "cell_type": "markdown",
   "metadata": {},
   "source": [
    "c) Legyenek bemeneti paraméter az $\\alpha$, $\\beta$ együtthatóvektorok is, azaz egészítsük ki a lenti függvénydefiníciót."
   ]
  },
  {
   "cell_type": "code",
   "execution_count": 25,
   "metadata": {},
   "outputs": [],
   "source": [
    "function [ts, ys] = explicit_lmm(alphas, betas, f, ts, y0)\n",
    "    \n",
    "end"
   ]
  },
  {
   "cell_type": "markdown",
   "metadata": {},
   "source": [
    "d) Az előző részfeladat megoldásának felhasználásával implementáljuk az EE módszert."
   ]
  },
  {
   "cell_type": "code",
   "execution_count": 24,
   "metadata": {},
   "outputs": [],
   "source": [
    "function [ts, ys] = explicit_euler_as_lmm(f, ts, y0)\n",
    "   \n",
    "end"
   ]
  }
 ],
 "metadata": {
  "kernelspec": {
   "display_name": "Octave",
   "language": "octave",
   "name": "octave"
  },
  "language_info": {
   "file_extension": ".m",
   "help_links": [
    {
     "text": "GNU Octave",
     "url": "https://www.gnu.org/software/octave/support.html"
    },
    {
     "text": "Octave Kernel",
     "url": "https://github.com/Calysto/octave_kernel"
    },
    {
     "text": "MetaKernel Magics",
     "url": "https://metakernel.readthedocs.io/en/latest/source/README.html"
    }
   ],
   "mimetype": "text/x-octave",
   "name": "octave",
   "version": "5.2.0"
  }
 },
 "nbformat": 4,
 "nbformat_minor": 4
}
