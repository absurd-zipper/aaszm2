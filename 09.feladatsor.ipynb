{
 "cells": [
  {
   "cell_type": "markdown",
   "metadata": {},
   "source": [
    "### 9. Feladatsor\n",
    "\n",
    "Implicit módszerek"
   ]
  },
  {
   "cell_type": "markdown",
   "metadata": {},
   "source": [
    "#### 1. Feladat\n",
    "\n",
    "Tekintsük az implicit Euler-módszert.\n",
    "\n",
    "$$\n",
    "y_{n+1} = y_n + h_nf(t_{n+1}, y_{n+1})\n",
    "$$"
   ]
  },
  {
   "cell_type": "markdown",
   "metadata": {},
   "source": [
    "Vezessük vissza az egyenlet megoldását az alábbi gyökkeresési problémára:\n",
    "$$\n",
    "g_{n+1}(y) = y - h_nf(t_{n+1}, y) - y_n\n",
    "$$\n"
   ]
  },
  {
   "cell_type": "markdown",
   "metadata": {},
   "source": [
    "Egyszerűen használható gyökkeresési módszer (`fsolve`): "
   ]
  },
  {
   "cell_type": "code",
   "execution_count": 1,
   "metadata": {},
   "outputs": [
    {
     "name": "stdout",
     "output_type": "stream",
     "text": [
      "ans =  1\n"
     ]
    }
   ],
   "source": [
    "fsolve(@(x)(x^2 - 1), 1)"
   ]
  },
  {
   "cell_type": "markdown",
   "metadata": {},
   "source": [
    "a) Implementáljuk a szokásos formátumban."
   ]
  },
  {
   "cell_type": "code",
   "execution_count": 2,
   "metadata": {},
   "outputs": [],
   "source": [
    "function [ts, ys] = implicit_euler(f, ts, y0)\n",
    "    ys = zeros(numel(y0), numel(ts));\n",
    "    ys(:, 1) = y0;\n",
    "    \n",
    "    for n=1:(numel(ts) - 1)\n",
    "        h = ts(n+1) - ts(n);\n",
    "        \n",
    "        g = @(y)(y - h*f(ts(n+1), y) - ys(:, n));\n",
    "\n",
    "        ys(:, n+1) = fsolve(g, ys(:, n));\n",
    "    end\n",
    "end"
   ]
  },
  {
   "cell_type": "code",
   "execution_count": 3,
   "metadata": {},
   "outputs": [
    {
     "name": "stdout",
     "output_type": "stream",
     "text": [
      "ys =\n",
      "\n",
      " Columns 1 through 8:\n",
      "\n",
      "   1.0000   1.1111   1.2346   1.3717   1.5242   1.6935   1.8817   2.0908\n",
      "\n",
      " Columns 9 through 11:\n",
      "\n",
      "   2.3231   2.5812   2.8680\n",
      "\n"
     ]
    }
   ],
   "source": [
    "[ts, ys] = implicit_euler(@(t, x)(x), 0:.1:1, 1);\n",
    "ys"
   ]
  },
  {
   "cell_type": "code",
   "execution_count": 4,
   "metadata": {
    "jupyter": {
     "source_hidden": true
    }
   },
   "outputs": [],
   "source": [
    "function [ts, ys] = explicit_euler(f, ts, y0)\n",
    "    ys = zeros(numel(y0), numel(ts));\n",
    "    ys(:, 1) = y0;\n",
    "    \n",
    "    for n=1:(numel(ts) - 1)\n",
    "        h = ts(n+1) - ts(n);\n",
    "        \n",
    "        k1 = f(ts(n), ys(:, n));\n",
    "\n",
    "        ys(:, n+1) = ys(:, n) + h * k1;\n",
    "    end\n",
    "end\n",
    "\n",
    "[ts, ys] = explicit_euler(@(t, x)(x.^2), 0:.1:1, .5);"
   ]
  },
  {
   "cell_type": "markdown",
   "metadata": {},
   "source": [
    "b) Hogyan érdemes változtatni a kódunkon, ha a feladat garantáltan lineáris és autonóm?\n",
    "\n",
    "$$\n",
    "y_{n+1} = y_n + h_nAy_{n+1}\n",
    "$$\n",
    "\n",
    "$$\n",
    "y_{n+1} = (I-h_nA)^{-1}y_n\n",
    "$$"
   ]
  },
  {
   "cell_type": "code",
   "execution_count": 6,
   "metadata": {},
   "outputs": [
    {
     "name": "stdout",
     "output_type": "stream",
     "text": [
      "ys =\n",
      "\n",
      " Columns 1 through 8:\n",
      "\n",
      "   1.00000   0.90909   0.82645   0.75131   0.68301   0.62092   0.56447   0.51316\n",
      "   1.00000   0.90909   0.82645   0.75131   0.68301   0.62092   0.56447   0.51316\n",
      "\n",
      " Columns 9 through 11:\n",
      "\n",
      "   0.46651   0.42410   0.38554\n",
      "   0.46651   0.42410   0.38554\n",
      "\n"
     ]
    }
   ],
   "source": [
    "function [ts, ys] = implicit_euler_linear_autonomous_system(A, ts, y0)\n",
    "    ys = zeros(numel(y0), numel(ts));\n",
    "    ys(:, 1) = y0;\n",
    "\n",
    "    I = eye(size(A));\n",
    "    for n=1:(numel(ts) - 1)\n",
    "        h = ts(n+1) - ts(n);\n",
    "    \n",
    "        ys(:, n+1) = (I-h*A)\\ys(:, n);\n",
    "    end\n",
    "end\n",
    "\n",
    "[ts, ys] = implicit_euler_linear_autonomous_system(diag([-1, -1]), 0:.1:1, [1; 1]);\n",
    "ys"
   ]
  },
  {
   "cell_type": "markdown",
   "metadata": {},
   "source": [
    "#### 2. feladat\n",
    "\n",
    "Tekintsük a kétdimenziós lineáris autonóm egyenletet:\n",
    "$$\n",
    "    \\dot x = Ax,\n",
    "$$\n",
    "ahol $A$ szimmetrikus mátrix $\\{-50, -100\\}$ sajátértékekkel.\n",
    "\n",
    "a)   Ábrázoljuk az egyenlet fázisképét a $0$ körül, illetve néhány numerikus megoldás trajektóriáját is."
   ]
  },
  {
   "cell_type": "code",
   "execution_count": 7,
   "metadata": {},
   "outputs": [],
   "source": [
    "function helper2(A, method, h)\n",
    "    A\n",
    "    [X, Y] = meshgrid(-1:.1:1, -1:.1:1);\n",
    "\n",
    "    UV=(A * [X(:)'; Y(:)']);\n",
    "    U = reshape(UV(1, :),size(X));\n",
    "    V = reshape(UV(2, :), size(Y));\n",
    "    quiver(X, Y, U, V)\n",
    "    xlim([-1, 1])\n",
    "    ylim([-1, 1])\n",
    "    hold on;\n",
    "\n",
    "    [ts, ys] = method(@(t, x)(A*x), 0:h:(pi), .5*[-.5; .5*sqrt(3)/2]);\n",
    "    plot(ys(1, :), ys(2, :), 'o-r')\n",
    "\n",
    "    hold on;\n",
    "\n",
    "    [ts, ys] = method(@(t, x)(A*x), 0:h:(pi), .5*[.5; -sqrt(3)/2]);\n",
    "    plot(ys(1, :), ys(2, :), 'o-g')\n",
    "end"
   ]
  },
  {
   "cell_type": "code",
   "execution_count": 8,
   "metadata": {},
   "outputs": [],
   "source": [
    "S = randi(100, [2 2]);\n",
    "[Q, _] = qr(S);"
   ]
  },
  {
   "cell_type": "code",
   "execution_count": 9,
   "metadata": {},
   "outputs": [
    {
     "name": "stdout",
     "output_type": "stream",
     "text": [
      "A =\n",
      "\n",
      "  -50.2700   -3.6643\n",
      "   -3.6643  -99.7300\n",
      "\n"
     ]
    },
    {
     "data": {
      "image/png": "[encoded data removed]",
      "text/plain": [
       "<IPython.core.display.Image object>"
      ]
     },
     "metadata": {},
     "output_type": "display_data"
    }
   ],
   "source": [
    "A2 = Q' * diag([-100, -50]) * Q;\n",
    "helper2(A2, @explicit_euler, .001)"
   ]
  },
  {
   "cell_type": "markdown",
   "metadata": {},
   "source": [
    "b) Mi történik ha a feladatra EE helyett IE módszert alkalmazunk? Megengedhetünk nagyobb lépéshosszokat? Összességében melyik módszer a hatékonyabb ebben az esetben?"
   ]
  },
  {
   "cell_type": "code",
   "execution_count": 13,
   "metadata": {},
   "outputs": [
    {
     "name": "stdout",
     "output_type": "stream",
     "text": [
      "A =\n",
      "\n",
      "  -50.2700   -3.6643\n",
      "   -3.6643  -99.7300\n",
      "\n"
     ]
    },
    {
     "data": {
      "image/png": "[encoded data removed]",
      "text/plain": [
       "<IPython.core.display.Image object>"
      ]
     },
     "metadata": {},
     "output_type": "display_data"
    }
   ],
   "source": [
    "helper2(A2, @implicit_euler, .1)"
   ]
  },
  {
   "cell_type": "markdown",
   "metadata": {},
   "source": [
    "#### 3. feladat\n",
    "\n",
    "Tekintsük az alábbi tridiagonális $A_n$ mátrixokat:"
   ]
  },
  {
   "cell_type": "code",
   "execution_count": 12,
   "metadata": {},
   "outputs": [
    {
     "name": "stdout",
     "output_type": "stream",
     "text": [
      "ans =\n",
      "\n",
      "  -10    5    0    0    0\n",
      "    5  -10    5    0    0\n",
      "    0    5  -10    5    0\n",
      "    0    0    5  -10    5\n",
      "    0    0    0    5  -10\n",
      "\n"
     ]
    }
   ],
   "source": [
    "n = 5;\n",
    "e = ones(n, 1);\n",
    "A_n = n*spdiags([e, -2*e, e], [-1, 0, 1], n, n);\n",
    "full(A_n)"
   ]
  },
  {
   "cell_type": "markdown",
   "metadata": {},
   "source": [
    "a) Milyen elméleti korlátot tudnánk adni az $A_n$ mátrix sajátértékeire? Ábrázoljuk $3 \\leq n\\leq 1000$ függvényében $A_n$ legkisebb és legnagyobb sajátértékét."
   ]
  },
  {
   "cell_type": "code",
   "execution_count": null,
   "metadata": {},
   "outputs": [],
   "source": []
  },
  {
   "cell_type": "markdown",
   "metadata": {},
   "source": [
    "b) Módszeresen hasonlítsuk össze az IE és az EE módszer viselkedését az \n",
    "\n",
    "$$\n",
    "\\dot x = A_n x\\quad [0,1]\\text{-en}\n",
    "$$\n",
    "feladaton. Kezdetiérték lehet a csupa-egy-vektor."
   ]
  },
  {
   "cell_type": "code",
   "execution_count": null,
   "metadata": {},
   "outputs": [],
   "source": []
  },
  {
   "cell_type": "markdown",
   "metadata": {},
   "source": [
    "#### 4. feladat\n",
    "Tekintsük a\n",
    "\n",
    "$$\n",
    "    \\sum_{k = 0}^s \\alpha_k y_{n-k} = h_{n-1}\\sum_{k = 0}^s  \\beta_k f_{n-k}\n",
    "$$\n",
    "\n",
    "formulával adott lineáris többlépéses módszereket. Tegyük fel, hogy $\\alpha_0 = 1$ az egyértelműség kedvéért."
   ]
  },
  {
   "cell_type": "code",
   "execution_count": null,
   "metadata": {},
   "outputs": [],
   "source": []
  },
  {
   "cell_type": "markdown",
   "metadata": {},
   "source": [
    "a) Milyen $\\alpha_k$, $\\beta_k$ választással kapjuk vissza az implicit Euler módszert?"
   ]
  },
  {
   "cell_type": "code",
   "execution_count": null,
   "metadata": {},
   "outputs": [],
   "source": []
  },
  {
   "cell_type": "markdown",
   "metadata": {},
   "source": [
    "b) Implementáljunk egy nekünk tetsző paraméterezésű módszert ([inspiráció](https://en.wikipedia.org/wiki/Linear_multistep_method))."
   ]
  },
  {
   "cell_type": "code",
   "execution_count": null,
   "metadata": {},
   "outputs": [],
   "source": []
  },
  {
   "cell_type": "markdown",
   "metadata": {},
   "source": [
    "c) Legyenek bemeneti paraméter az $\\alpha$, $\\beta$ együtthatóvektorok is, azaz egészítsük ki a lenti függvénydefiníciót."
   ]
  },
  {
   "cell_type": "code",
   "execution_count": null,
   "metadata": {},
   "outputs": [],
   "source": [
    "function [ts, ys] = lmm(alphas, betas, f, ts, y0)\n",
    "    \n",
    "end"
   ]
  },
  {
   "cell_type": "markdown",
   "metadata": {},
   "source": [
    "d) Az előző részfeladat megoldásának felhasználásával implementáljuk az IE módszert."
   ]
  },
  {
   "cell_type": "code",
   "execution_count": null,
   "metadata": {},
   "outputs": [],
   "source": [
    "function [ts, ys] = implicit_euler_as_lmm(f, ts, y0)\n",
    "   \n",
    "end"
   ]
  }
 ],
 "metadata": {
  "kernelspec": {
   "display_name": "Octave",
   "language": "octave",
   "name": "octave"
  },
  "language_info": {
   "file_extension": ".m",
   "help_links": [
    {
     "text": "GNU Octave",
     "url": "https://www.gnu.org/software/octave/support.html"
    },
    {
     "text": "Octave Kernel",
     "url": "https://github.com/Calysto/octave_kernel"
    },
    {
     "text": "MetaKernel Magics",
     "url": "https://metakernel.readthedocs.io/en/latest/source/README.html"
    }
   ],
   "mimetype": "text/x-octave",
   "name": "octave",
   "version": "5.2.0"
  }
 },
 "nbformat": 4,
 "nbformat_minor": 4
}
