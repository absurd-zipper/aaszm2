{
 "cells": [
  {
   "cell_type": "markdown",
   "metadata": {},
   "source": [
    "### 10. Feladatsor\n",
    "\n",
    "Peremérték-feladatok (1d)"
   ]
  },
  {
   "cell_type": "markdown",
   "metadata": {},
   "source": [
    "Tekintsük az alábbi peremérték-feladatot!\n",
    "$$\n",
    "\\begin{cases}\n",
    "u''(x) = f(x, u(x), u'(x)) &  \\quad x \\in (\\xi_0, \\xi_1) \\\\\n",
    "\\\\\n",
    "u(\\xi_0) = u_0 \\\\\n",
    "u(\\xi_1) = u_1\n",
    "\\end{cases}\n",
    "$$\n",
    "\n",
    "Idézzük fel, hogy mit tanultunk a megoldhatóságáról."
   ]
  },
  {
   "cell_type": "markdown",
   "metadata": {},
   "source": [
    "#### 1. feladat\n",
    "\n",
    "Tekintsük az alábbi egyszerű peremérték-feladatot!\n",
    "$$\n",
    "\\begin{cases}\n",
    "u' = 1  & (0, 1)\\text{-en} \\\\\n",
    "\\\\\n",
    "u(0) = 1 \\\\\n",
    "u(1) = 2\n",
    "\\end{cases}\n",
    "$$\n",
    "\n",
    "a) Diszkretizáljuk az egyenletet a véges differenciák módszerével.\n",
    "\n",
    "$$\n",
    "u_j = u(0 + jh) \\quad j = 0,\\ldots,n+1\n",
    "$$"
   ]
  },
  {
   "cell_type": "code",
   "execution_count": 2,
   "metadata": {},
   "outputs": [
    {
     "name": "stdout",
     "output_type": "stream",
     "text": [
      "ts =\n",
      "\n",
      " Columns 1 through 8:\n",
      "\n",
      "   0.00000   0.09091   0.18182   0.27273   0.36364   0.45455   0.54545   0.63636\n",
      "\n",
      " Columns 9 through 12:\n",
      "\n",
      "   0.72727   0.81818   0.90909   1.00000\n",
      "\n"
     ]
    }
   ],
   "source": [
    "n = 10;\n",
    "u = zeros(n, 1);\n",
    "ts = linspace(0, 1, n+2)\n",
    "\n",
    "% A * x = b\n",
    "% A \\ b\n",
    "\n",
    "e = ones(n, 1);"
   ]
  },
  {
   "cell_type": "code",
   "execution_count": null,
   "metadata": {},
   "outputs": [],
   "source": [
    "u_j - u_{j-1}\n",
    "------------- ~ u'(x_j) = u'(0 + hj) = (egyenlet alapjan) = 1\n",
    "     h"
   ]
  },
  {
   "cell_type": "code",
   "execution_count": null,
   "metadata": {},
   "outputs": [],
   "source": [
    "u(x) = 1, 0 < x < 1"
   ]
  },
  {
   "cell_type": "code",
   "execution_count": null,
   "metadata": {},
   "outputs": [],
   "source": [
    "u(x_j) = 1, 1 <= j <= n"
   ]
  },
  {
   "cell_type": "code",
   "execution_count": null,
   "metadata": {},
   "outputs": [],
   "source": [
    "u_j = 1, 1 <= j <= n"
   ]
  },
  {
   "cell_type": "code",
   "execution_count": null,
   "metadata": {},
   "outputs": [],
   "source": [
    "I * u = 1"
   ]
  },
  {
   "cell_type": "code",
   "execution_count": null,
   "metadata": {},
   "outputs": [],
   "source": []
  },
  {
   "cell_type": "code",
   "execution_count": null,
   "metadata": {},
   "outputs": [],
   "source": [
    "u'(x) = 1, 0 < x < 1"
   ]
  },
  {
   "cell_type": "code",
   "execution_count": null,
   "metadata": {},
   "outputs": [],
   "source": [
    "u'(x_j) = 1, 0 < x < 1"
   ]
  },
  {
   "cell_type": "code",
   "execution_count": null,
   "metadata": {},
   "outputs": [],
   "source": [
    "u_j - u_{j-1} \n",
    "------------- = 1, 0 < x < 1\n",
    "    h"
   ]
  },
  {
   "cell_type": "code",
   "execution_count": null,
   "metadata": {},
   "outputs": [],
   "source": [
    "u -> u: I\n",
    "\n",
    "u_j -> u_{j-1}: A_{-}"
   ]
  },
  {
   "cell_type": "code",
   "execution_count": null,
   "metadata": {},
   "outputs": [],
   "source": [
    "[1 0; \n",
    " 0 1] * [a;\n",
    "         b]\n",
    " \n",
    " [0 0 0;\n",
    "  1 0 0;\n",
    "  0 1 0] * [a;\n",
    "            b;\n",
    "            c]"
   ]
  },
  {
   "cell_type": "code",
   "execution_count": null,
   "metadata": {},
   "outputs": [],
   "source": [
    "u_j -> -u_{j-1}: - A_{-}"
   ]
  },
  {
   "cell_type": "code",
   "execution_count": null,
   "metadata": {},
   "outputs": [],
   "source": [
    "u_j -> u_j - u_{j-1}: I - A_{-}"
   ]
  },
  {
   "cell_type": "code",
   "execution_count": null,
   "metadata": {},
   "outputs": [],
   "source": [
    "u_j -> (u_j - u_{j-1})/h: (I - A_{-})/h"
   ]
  },
  {
   "cell_type": "code",
   "execution_count": 20,
   "metadata": {},
   "outputs": [
    {
     "name": "stdout",
     "output_type": "stream",
     "text": [
      "ans =\n",
      "\n",
      "   1   0   0   0   0   0   0   0   0   0\n",
      "  -1   1   0   0   0   0   0   0   0   0\n",
      "   0  -1   1   0   0   0   0   0   0   0\n",
      "   0   0  -1   1   0   0   0   0   0   0\n",
      "   0   0   0  -1   1   0   0   0   0   0\n",
      "   0   0   0   0  -1   1   0   0   0   0\n",
      "   0   0   0   0   0  -1   1   0   0   0\n",
      "   0   0   0   0   0   0  -1   1   0   0\n",
      "   0   0   0   0   0   0   0  -1   1   0\n",
      "   0   0   0   0   0   0   0   0  -1   1\n",
      "\n"
     ]
    }
   ],
   "source": [
    "A = spdiags([-e e], [-1, 0], n, n);\n",
    "\n",
    "full(A)"
   ]
  },
  {
   "cell_type": "code",
   "execution_count": 21,
   "metadata": {},
   "outputs": [
    {
     "data": {
      "image/png": "[encoded data removed]",
      "text/plain": [
       "<IPython.core.display.Image object>"
      ]
     },
     "metadata": {},
     "output_type": "display_data"
    }
   ],
   "source": [
    "spy(A)"
   ]
  },
  {
   "cell_type": "code",
   "execution_count": 22,
   "metadata": {},
   "outputs": [
    {
     "name": "stdout",
     "output_type": "stream",
     "text": [
      "ans =\n",
      "\n",
      "   11    0    0    0    0    0    0    0    0    0\n",
      "  -11   11    0    0    0    0    0    0    0    0\n",
      "    0  -11   11    0    0    0    0    0    0    0\n",
      "    0    0  -11   11    0    0    0    0    0    0\n",
      "    0    0    0  -11   11    0    0    0    0    0\n",
      "    0    0    0    0  -11   11    0    0    0    0\n",
      "    0    0    0    0    0  -11   11    0    0    0\n",
      "    0    0    0    0    0    0  -11   11    0    0\n",
      "    0    0    0    0    0    0    0  -11   11    0\n",
      "    0    0    0    0    0    0    0    0  -11   11\n",
      "\n"
     ]
    }
   ],
   "source": [
    "h = ts(2) - ts(1);\n",
    "\n",
    "Ah = A/h;\n",
    "full(Ah)"
   ]
  },
  {
   "cell_type": "markdown",
   "metadata": {},
   "source": [
    "b) Oldjuk meg a keletkező egyenletrendszert."
   ]
  },
  {
   "cell_type": "code",
   "execution_count": 37,
   "metadata": {},
   "outputs": [
    {
     "name": "stdout",
     "output_type": "stream",
     "text": [
      "ans =\n",
      "\n",
      "    1    0    0    0    0    0    0    0    0    0    0    0\n",
      "  -11   11    0    0    0    0    0    0    0    0    0    0\n",
      "    0  -11   11    0    0    0    0    0    0    0    0    0\n",
      "    0    0  -11   11    0    0    0    0    0    0    0    0\n",
      "    0    0    0  -11   11    0    0    0    0    0    0    0\n",
      "    0    0    0    0  -11   11    0    0    0    0    0    0\n",
      "    0    0    0    0    0  -11   11    0    0    0    0    0\n",
      "    0    0    0    0    0    0  -11   11    0    0    0    0\n",
      "    0    0    0    0    0    0    0  -11   11    0    0    0\n",
      "    0    0    0    0    0    0    0    0  -11   11    0    0\n",
      "    0    0    0    0    0    0    0    0    0  -11   11    0\n",
      "    0    0    0    0    0    0    0    0    0    0    0    1\n",
      "\n",
      "b =\n",
      "\n",
      "   1\n",
      "   1\n",
      "   1\n",
      "   1\n",
      "   1\n",
      "   1\n",
      "   1\n",
      "   1\n",
      "   1\n",
      "   1\n",
      "   1\n",
      "   2\n",
      "\n",
      "ans =\n",
      "\n",
      "   1.0000\n",
      "   1.0909\n",
      "   1.1818\n",
      "   1.2727\n",
      "   1.3636\n",
      "   1.4545\n",
      "   1.5455\n",
      "   1.6364\n",
      "   1.7273\n",
      "   1.8182\n",
      "   1.9091\n",
      "   2.0000\n",
      "\n"
     ]
    }
   ],
   "source": [
    "e = ones(n+2, 1);\n",
    "\n",
    "A = spdiags([-e e], [-1 0], n+2, n+2)/h;\n",
    "b = ones(n+2, 1);\n",
    "b(1) = 1;\n",
    "b(end) = 2;\n",
    "\n",
    "%A(1, 2) = 0;\n",
    "A(1, 1) = 1;\n",
    "A(end, end) = 1;\n",
    "A(end, end - 1) = 0;\n",
    "\n",
    "full(A)\n",
    "b\n",
    "A \\ b"
   ]
  },
  {
   "cell_type": "markdown",
   "metadata": {},
   "source": [
    "c) Vegyük az intervallum egyre finomodó felosztásait. Mérjük le, hogy a rácspontok számának függvényében hogy alakul a maximumnormában mért hiba."
   ]
  },
  {
   "cell_type": "code",
   "execution_count": null,
   "metadata": {},
   "outputs": [],
   "source": []
  },
  {
   "cell_type": "markdown",
   "metadata": {},
   "source": [
    "#### 2. feladat\n",
    "\n",
    "Tekintsük az alábbi peremérték-feladatot!\n",
    "$$\n",
    "\\begin{cases}\n",
    "u'' = -1  & (0, \\frac{\\pi}{4})\\text{-en} \\\\\n",
    "\\\\\n",
    "u(0) = 1 \\\\\n",
    "u\\left(\\frac{\\pi}{4}\\right) = 2\n",
    "\\end{cases}\n",
    "$$\n",
    "\n",
    "a) Diszkretizáljuk az egyenletet a véges differenciák módszerével a tanult módon."
   ]
  },
  {
   "cell_type": "code",
   "execution_count": null,
   "metadata": {},
   "outputs": [],
   "source": []
  },
  {
   "cell_type": "markdown",
   "metadata": {},
   "source": [
    "b) Oldjuk meg a keletkező egyenletrendszert."
   ]
  },
  {
   "cell_type": "code",
   "execution_count": null,
   "metadata": {},
   "outputs": [],
   "source": []
  },
  {
   "cell_type": "markdown",
   "metadata": {},
   "source": [
    "c) Vegyük az intervallum egyre finomodó felosztásait. Mérjük le, hogy a rácspontok számának függvényében hogy alakul a maximumnormában mért hiba."
   ]
  },
  {
   "cell_type": "code",
   "execution_count": null,
   "metadata": {},
   "outputs": [],
   "source": []
  }
 ],
 "metadata": {
  "kernelspec": {
   "display_name": "Octave",
   "language": "octave",
   "name": "octave"
  },
  "language_info": {
   "file_extension": ".m",
   "help_links": [
    {
     "text": "GNU Octave",
     "url": "https://www.gnu.org/software/octave/support.html"
    },
    {
     "text": "Octave Kernel",
     "url": "https://github.com/Calysto/octave_kernel"
    },
    {
     "text": "MetaKernel Magics",
     "url": "https://metakernel.readthedocs.io/en/latest/source/README.html"
    }
   ],
   "mimetype": "text/x-octave",
   "name": "octave",
   "version": "5.2.0"
  }
 },
 "nbformat": 4,
 "nbformat_minor": 4
}
