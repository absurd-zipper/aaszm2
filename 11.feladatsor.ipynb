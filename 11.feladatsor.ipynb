{
 "cells": [
  {
   "cell_type": "markdown",
   "metadata": {},
   "source": [
    "### 11. Feladatsor\n",
    "\n",
    "Egyszerű PDE-ek numerikus megoldása szemidiszkretizációval."
   ]
  },
  {
   "cell_type": "markdown",
   "metadata": {},
   "source": [
    "#### 1. feladat\n",
    "\n",
    "Tekintsük az alábbi feladatot:\n",
    "$$\n",
    "\\begin{align*}\n",
    "u_t(t, x) &= u_{xx}(t, x) \\\\\n",
    "\\\\\n",
    "u(0, x) &= \\sin(\\pi x) \\\\\n",
    "u(t, 0) &= u(t, 1) = 0\n",
    "\\end{align*}\n",
    "$$\n",
    "\n",
    "ahol $ 0 < t < 1, 0 < x < 1$."
   ]
  },
  {
   "cell_type": "markdown",
   "metadata": {},
   "source": [
    "a) Szemidiszkretizáljunk (azaz diszkretizáljuk az egyenletet a térváltozó mentén) a véges differenciák módszerével."
   ]
  },
  {
   "cell_type": "code",
   "execution_count": 1,
   "metadata": {},
   "outputs": [],
   "source": [
    "% tér-rács\n",
    "dx = .05;\n",
    "xs = 0:dx:1;\n",
    "\n",
    "n = length(xs);\n",
    "e = ones(n, 1);\n",
    "\n",
    "% a szemidiszkretizált egyenlet jobboldalának definíciója\n",
    "% U'(t) = A * U(t)\n",
    "A = (1/dx)^2 * spdiags([e -2*e e], [-1 0 1], n, n);\n",
    "f = @(t, U)(A*U);"
   ]
  },
  {
   "cell_type": "markdown",
   "metadata": {},
   "source": [
    "b) Válasszunk egy szimpatikus RK/LT módszert, és oldjuk meg a keletkező egyenletet (Meg is gondolhatjuk, hogy az eddig tanultak közül milyen módszert érdemes használni, de az implementáció szempontjából nincs különösebb jelentősége.)"
   ]
  },
  {
   "cell_type": "code",
   "execution_count": 2,
   "metadata": {},
   "outputs": [],
   "source": [
    "function [ts, ys] = explicit_euler(f, ts, y0)\n",
    "    ys = zeros(numel(y0), numel(ts));\n",
    "    ys(:, 1) = y0;\n",
    "    \n",
    "    for k=1:(numel(ts) - 1)\n",
    "        h = ts(k+1) - ts(k);\n",
    "        ys(:, k+1) = ys(:, k) + h * f(ts(k), ys(:, k));\n",
    "    end\n",
    "end"
   ]
  },
  {
   "cell_type": "code",
   "execution_count": 3,
   "metadata": {},
   "outputs": [
    {
     "name": "stdout",
     "output_type": "stream",
     "text": [
      "dt =  0.0010000\n"
     ]
    }
   ],
   "source": [
    "% idő-rács\n",
    "dt = .001 % figyeljünk arra, hogy dt << dx teljesüljön\n",
    "ts = 0:dt:1;\n",
    "[ts, ys] = explicit_euler(f, 0:.001:1, sin(pi*xs));"
   ]
  },
  {
   "cell_type": "code",
   "execution_count": 4,
   "metadata": {},
   "outputs": [
    {
     "data": {
      "image/png": "[encoded data removed]",
      "text/plain": [
       "<IPython.core.display.Image object>"
      ]
     },
     "metadata": {},
     "output_type": "display_data"
    }
   ],
   "source": [
    "% ys(t_j, x_k) a t_j időpontban, x_k rácsban felvett értéke a numerikus megoldásnak, azaz ys(t_j, x_k) ~ u(t_j, x_k)\n",
    "\n",
    "% Ábrázoljuk a megoldást kb. minden 10. időpontban\n",
    "for j=1:floor((1/dt)/10):length(ts)\n",
    "    plot(xs, ys(:, j)); hold on;\n",
    "end"
   ]
  },
  {
   "cell_type": "code",
   "execution_count": null,
   "metadata": {},
   "outputs": [],
   "source": []
  },
  {
   "cell_type": "markdown",
   "metadata": {},
   "source": [
    "#### 2. feladat\n",
    "\n",
    "Tekintsük az alábbi feladatot:\n",
    "$$\n",
    "\\begin{align*}\n",
    "u_t(t, x) &= u_{x}(t, x) \\\\\n",
    "\\\\\n",
    "u(0, x) &= 1 - x^2 \\\\\n",
    "u(t, \\pm 1) &= 0\n",
    "\\end{align*}\n",
    "$$\n",
    "\n",
    "ahol $ 0 < t < 1, -1 < x < 1$."
   ]
  },
  {
   "cell_type": "markdown",
   "metadata": {},
   "source": [
    "a) Szemidiszkretizáljunk (azaz diszkretizáljuk az egyenletet a térváltozó mentén) a véges differenciák módszerével."
   ]
  },
  {
   "cell_type": "code",
   "execution_count": null,
   "metadata": {},
   "outputs": [],
   "source": []
  },
  {
   "cell_type": "markdown",
   "metadata": {},
   "source": [
    "b) Válasszunk egy szimpatikus RK/LT módszert, és oldjuk meg a keletkező egyenletet."
   ]
  },
  {
   "cell_type": "code",
   "execution_count": null,
   "metadata": {},
   "outputs": [],
   "source": []
  }
 ],
 "metadata": {
  "kernelspec": {
   "display_name": "Octave",
   "language": "octave",
   "name": "octave"
  },
  "language_info": {
   "file_extension": ".m",
   "help_links": [
    {
     "text": "GNU Octave",
     "url": "https://www.gnu.org/software/octave/support.html"
    },
    {
     "text": "Octave Kernel",
     "url": "https://github.com/Calysto/octave_kernel"
    },
    {
     "text": "MetaKernel Magics",
     "url": "https://metakernel.readthedocs.io/en/latest/source/README.html"
    }
   ],
   "mimetype": "text/x-octave",
   "name": "octave",
   "version": "5.2.0"
  }
 },
 "nbformat": 4,
 "nbformat_minor": 4
}
